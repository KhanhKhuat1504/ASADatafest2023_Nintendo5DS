{
 "cells": [
  {
   "cell_type": "code",
   "execution_count": 9,
   "metadata": {},
   "outputs": [
    {
     "name": "stderr",
     "output_type": "stream",
     "text": [
      "WARNING: using Plots.plot in module Main conflicts with an existing identifier.\n"
     ]
    },
    {
     "ename": "MethodError",
     "evalue": "MethodError: no method matching AbstractFloat(::Type{String})\nClosest candidates are:\n  (::Type{T})(!Matched::AbstractChar) where T<:Union{AbstractChar, Number} at char.jl:50\n  (::Type{T})(!Matched::Base.TwicePrecision) where T<:Number at twiceprecision.jl:266\n  (::Type{T})(!Matched::Complex) where T<:Real at complex.jl:44\n  ...",
     "output_type": "error",
     "traceback": [
      "MethodError: no method matching AbstractFloat(::Type{String})\n",
      "Closest candidates are:\n",
      "  (::Type{T})(!Matched::AbstractChar) where T<:Union{AbstractChar, Number} at char.jl:50\n",
      "  (::Type{T})(!Matched::Base.TwicePrecision) where T<:Number at twiceprecision.jl:266\n",
      "  (::Type{T})(!Matched::Complex) where T<:Real at complex.jl:44\n",
      "  ...\n",
      "\n",
      "Stacktrace:\n",
      "  [1] float(x::Type)\n",
      "    @ Base .\\float.jl:269\n",
      "  [2] _preprocess_barlike(plotattributes::RecipesPipeline.DefaultsDict, x::Vector{Float64}, y::Vector{String})\n",
      "    @ Plots C:\\Users\\ADMIN\\.julia\\packages\\Plots\\B5j7d\\src\\recipes.jl:568\n",
      "  [3] macro expansion\n",
      "    @ C:\\Users\\ADMIN\\.julia\\packages\\Plots\\B5j7d\\src\\recipes.jl:406 [inlined]\n",
      "  [4] apply_recipe(plotattributes::AbstractDict{Symbol, Any}, #unused#::Type{Val{:bar}}, x::Any, y::Any, z::Any)\n",
      "    @ Plots C:\\Users\\ADMIN\\.julia\\packages\\RecipesBase\\z10lo\\src\\RecipesBase.jl:300\n",
      "  [5] _process_seriesrecipe(plt::Any, plotattributes::Any)\n",
      "    @ RecipesPipeline C:\\Users\\ADMIN\\.julia\\packages\\RecipesPipeline\\XxUHt\\src\\series_recipe.jl:50\n",
      "  [6] _process_seriesrecipes!(plt::Any, kw_list::Any)\n",
      "    @ RecipesPipeline C:\\Users\\ADMIN\\.julia\\packages\\RecipesPipeline\\XxUHt\\src\\series_recipe.jl:27\n",
      "  [7] recipe_pipeline!(plt::Any, plotattributes::Any, args::Any)\n",
      "    @ RecipesPipeline C:\\Users\\ADMIN\\.julia\\packages\\RecipesPipeline\\XxUHt\\src\\RecipesPipeline.jl:99\n",
      "  [8] _plot!(plt::Plots.Plot, plotattributes::Any, args::Any)\n",
      "    @ Plots C:\\Users\\ADMIN\\.julia\\packages\\Plots\\B5j7d\\src\\plot.jl:223\n",
      "  [9] plot(::Any, ::Vararg{Any}; kw::Base.Pairs{Symbol, V, Tuple{Vararg{Symbol, N}}, NamedTuple{names, T}} where {V, N, names, T<:Tuple{Vararg{Any, N}}})\n",
      "    @ Plots C:\\Users\\ADMIN\\.julia\\packages\\Plots\\B5j7d\\src\\plot.jl:102\n",
      " [10] bar(::Any, ::Vararg{Any}; kw::Base.Pairs{Symbol, V, Tuple{Vararg{Symbol, N}}, NamedTuple{names, T}} where {V, N, names, T<:Tuple{Vararg{Any, N}}})\n",
      "    @ Plots C:\\Users\\ADMIN\\.julia\\packages\\RecipesBase\\z10lo\\src\\RecipesBase.jl:427\n",
      " [11] bar(::Any, ::Vararg{Any})\n",
      "    @ Plots C:\\Users\\ADMIN\\.julia\\packages\\RecipesBase\\z10lo\\src\\RecipesBase.jl:427\n",
      " [12] top-level scope\n",
      "    @ c:\\Users\\ADMIN\\OneDrive\\Documents\\GitHub\\Team-Nintendo5DS\\DataAnalysis.ipynb:11"
     ]
    }
   ],
   "source": [
    "using CSV, DataFrames, Plots\n",
    "\n",
    "# Load the data from the CSV file\n",
    "question_data = CSV.read(\"questions.csv\", DataFrame)\n",
    "\n",
    "# Group the data by category and count the number of questions in each category\n",
    "categories = unique(question_data.Category)\n",
    "category_counts = [sum(question_data.Category .== category) for category in categories]\n",
    "\n",
    "# Create the plot\n",
    "bar(category_counts, categories)\n",
    "ylabel!(\"Category\")\n",
    "xlabel!(\"Number of questions\")\n",
    "title!(\"Questions by category\")"
   ]
  },
  {
   "cell_type": "code",
   "execution_count": null,
   "metadata": {},
   "outputs": [],
   "source": []
  }
 ],
 "metadata": {
  "kernelspec": {
   "display_name": "Julia 1.8.5",
   "language": "julia",
   "name": "julia-1.8"
  },
  "language_info": {
   "file_extension": ".jl",
   "mimetype": "application/julia",
   "name": "julia",
   "version": "1.8.5"
  },
  "orig_nbformat": 4
 },
 "nbformat": 4,
 "nbformat_minor": 2
}
